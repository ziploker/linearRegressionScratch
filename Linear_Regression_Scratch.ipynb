{
 "cells": [
  {
   "cell_type": "markdown",
   "id": "f916f45b-39a5-4f60-a8fa-54af4ae252fc",
   "metadata": {},
   "source": [
    "# Create Linear Regression Model from scratch\n",
    "# YT - sentdex"
   ]
  },
  {
   "cell_type": "markdown",
   "id": "fea68786-bf38-4339-b056-7b748978f95c",
   "metadata": {},
   "source": [
    "&emsp;"
   ]
  },
  {
   "cell_type": "markdown",
   "id": "dcb3f4c0-97ba-4ef6-a673-4d617b13d1ca",
   "metadata": {},
   "source": [
    "## Imports"
   ]
  },
  {
   "cell_type": "code",
   "execution_count": 13,
   "id": "e386b13c-fdd2-41fb-b220-b1a250cd86d0",
   "metadata": {},
   "outputs": [],
   "source": [
    "from IPython.display import Image\n",
    "from statistics import mean\n",
    "import numpy as np"
   ]
  },
  {
   "cell_type": "markdown",
   "id": "9a2d3cee-c69b-4a9c-8f62-f146332b4300",
   "metadata": {},
   "source": [
    "&nbsp;"
   ]
  },
  {
   "cell_type": "markdown",
   "id": "200dd8fd-ec09-4110-a732-05e180a0940a",
   "metadata": {},
   "source": [
    "## Formulas"
   ]
  },
  {
   "cell_type": "markdown",
   "id": "64caebd7-aaa5-4ee4-ba19-329cbf128535",
   "metadata": {},
   "source": [
    "<div>\n",
    "<img src=\"./images/formulas.jpg\" width=\"500\"/>\n",
    "</div>\n"
   ]
  },
  {
   "cell_type": "markdown",
   "id": "b2be6baa-3fd6-4fd8-98d5-ca5feffbe64f",
   "metadata": {},
   "source": [
    "&emsp;"
   ]
  },
  {
   "cell_type": "code",
   "execution_count": 19,
   "id": "4ca22e2f-4a76-4788-a1ae-72c25b207b31",
   "metadata": {},
   "outputs": [],
   "source": [
    "xs = np.array([1,2,3,4,5,6], dtype=np.float64)"
   ]
  },
  {
   "cell_type": "code",
   "execution_count": 20,
   "id": "c07127f9-e722-4f1a-aaca-07fc325fffe7",
   "metadata": {},
   "outputs": [],
   "source": [
    "ys = np.array([5,4,6,5,6,7], dtype=np.float64)"
   ]
  },
  {
   "cell_type": "markdown",
   "id": "b13126cd-0a91-4f50-974a-b9288ecbdd14",
   "metadata": {},
   "source": [
    "&emsp;"
   ]
  },
  {
   "cell_type": "code",
   "execution_count": null,
   "id": "3fe842c7-5f50-4880-bb63-8ed70c1df140",
   "metadata": {},
   "outputs": [],
   "source": []
  }
 ],
 "metadata": {
  "kernelspec": {
   "display_name": "Python 3 (ipykernel)",
   "language": "python",
   "name": "python3"
  },
  "language_info": {
   "codemirror_mode": {
    "name": "ipython",
    "version": 3
   },
   "file_extension": ".py",
   "mimetype": "text/x-python",
   "name": "python",
   "nbconvert_exporter": "python",
   "pygments_lexer": "ipython3",
   "version": "3.8.17"
  }
 },
 "nbformat": 4,
 "nbformat_minor": 5
}
