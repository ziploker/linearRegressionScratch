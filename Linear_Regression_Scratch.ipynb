{
 "cells": [
  {
   "cell_type": "markdown",
   "id": "f916f45b-39a5-4f60-a8fa-54af4ae252fc",
   "metadata": {},
   "source": [
    "# Create Linear Regression Model from scratch\n",
    "# YT - sentdex"
   ]
  },
  {
   "cell_type": "markdown",
   "id": "fea68786-bf38-4339-b056-7b748978f95c",
   "metadata": {},
   "source": [
    "&emsp;"
   ]
  },
  {
   "cell_type": "markdown",
   "id": "dcb3f4c0-97ba-4ef6-a673-4d617b13d1ca",
   "metadata": {},
   "source": [
    "## Imports"
   ]
  },
  {
   "cell_type": "code",
   "execution_count": 89,
   "id": "e386b13c-fdd2-41fb-b220-b1a250cd86d0",
   "metadata": {
    "tags": []
   },
   "outputs": [],
   "source": [
    "from IPython.display import Image\n",
    "from statistics import mean\n",
    "import numpy as np\n",
    "import matplotlib.pyplot as plt\n",
    "from matplotlib import style\n",
    "import random"
   ]
  },
  {
   "cell_type": "markdown",
   "id": "200dd8fd-ec09-4110-a732-05e180a0940a",
   "metadata": {},
   "source": [
    "## Formulas"
   ]
  },
  {
   "cell_type": "markdown",
   "id": "64caebd7-aaa5-4ee4-ba19-329cbf128535",
   "metadata": {},
   "source": [
    "<div>\n",
    "<img src=\"./images/formulas.jpg\" width=\"500\"/>\n",
    "</div>\n"
   ]
  },
  {
   "cell_type": "markdown",
   "id": "b2be6baa-3fd6-4fd8-98d5-ca5feffbe64f",
   "metadata": {},
   "source": [
    "&emsp;"
   ]
  },
  {
   "cell_type": "markdown",
   "id": "d6530c06-eb37-4dab-bb0d-ba5cab146131",
   "metadata": {
    "tags": []
   },
   "source": [
    "<div>\n",
    "<img src=\"./images/r_squared.png\" width=\"200\"/>\n",
    "</div>"
   ]
  },
  {
   "cell_type": "code",
   "execution_count": 90,
   "id": "4ca22e2f-4a76-4788-a1ae-72c25b207b31",
   "metadata": {
    "tags": []
   },
   "outputs": [],
   "source": [
    "#xs = np.array([1,2,3,4,5,6], dtype=np.float64)"
   ]
  },
  {
   "cell_type": "code",
   "execution_count": 91,
   "id": "c07127f9-e722-4f1a-aaca-07fc325fffe7",
   "metadata": {
    "tags": []
   },
   "outputs": [],
   "source": [
    "#ys = np.array([5,4,6,5,6,7], dtype=np.float64)"
   ]
  },
  {
   "cell_type": "code",
   "execution_count": null,
   "id": "28c8dff9-5028-4b0d-8a3b-5f56abce45ec",
   "metadata": {},
   "outputs": [],
   "source": []
  },
  {
   "cell_type": "markdown",
   "id": "b13126cd-0a91-4f50-974a-b9288ecbdd14",
   "metadata": {},
   "source": [
    "&emsp;"
   ]
  },
  {
   "cell_type": "code",
   "execution_count": 92,
   "id": "52edcb83-ebce-4453-afed-c5862c7841b9",
   "metadata": {
    "tags": []
   },
   "outputs": [],
   "source": [
    "def create_dataset(howMany, variance, step=2, correlation=False):\n",
    "    \n",
    "    val=1\n",
    "    ys=[]\n",
    "    for i in range(howMany):\n",
    "        y = val + random.randrange(-variance, variance)\n",
    "        ys.append(y)\n",
    "        if correlation and correlation == 'pos':\n",
    "            val+=step\n",
    "        elif correlation and correlation == 'neg':\n",
    "            val -= step\n",
    "    xs = [i for i in range(len(ys))]\n",
    "    return np.array(xs, dtype=np.float64), np.array(ys, dtype=np.float64)"
   ]
  },
  {
   "cell_type": "code",
   "execution_count": 93,
   "id": "3fe842c7-5f50-4880-bb63-8ed70c1df140",
   "metadata": {
    "tags": []
   },
   "outputs": [],
   "source": [
    "def best_fit_slope_intercept(xs, ys):\n",
    "    m = ( ((mean(xs) * mean(ys)) - mean(xs*ys)) /\n",
    "         ((mean(xs)*mean(xs)) - mean(xs**2)))\n",
    "    \n",
    "    b = mean(ys) - m*mean(xs)\n",
    "    return m, b"
   ]
  },
  {
   "cell_type": "code",
   "execution_count": 94,
   "id": "eda737e3-c0dc-4a41-a123-9b2aa1761865",
   "metadata": {
    "tags": []
   },
   "outputs": [],
   "source": [
    "def squared_error(ys_original, ys_line):\n",
    "    return sum((ys_line-ys_original)**2)"
   ]
  },
  {
   "cell_type": "code",
   "execution_count": 95,
   "id": "5a547925-00fd-48a3-a12a-5043dff8127d",
   "metadata": {},
   "outputs": [],
   "source": [
    "def coefficient_of_determination(ys_original, ys_line):\n",
    "    y_mean_line = [mean(ys_original) for y in ys_original]\n",
    "    squared_error_regr = squared_error(ys_original, ys_line)\n",
    "    squared_error_y_mean = squared_error(ys_original, y_mean_line)\n",
    "    \n",
    "    return 1 - (squared_error_regr / squared_error_y_mean)"
   ]
  },
  {
   "cell_type": "code",
   "execution_count": 96,
   "id": "ed733edb-f841-4f89-9c89-0699bfb555c4",
   "metadata": {
    "tags": []
   },
   "outputs": [],
   "source": [
    "xs, ys = create_dataset(40, 1, -1, correlation='pos')"
   ]
  },
  {
   "cell_type": "code",
   "execution_count": 97,
   "id": "c0fe6746-38f7-43dc-bb80-5b39549f4988",
   "metadata": {},
   "outputs": [
    {
     "name": "stdout",
     "output_type": "stream",
     "text": [
      "[ 0.  1.  2.  3.  4.  5.  6.  7.  8.  9. 10. 11. 12. 13. 14. 15. 16. 17.\n",
      " 18. 19. 20. 21. 22. 23. 24. 25. 26. 27. 28. 29. 30. 31. 32. 33. 34. 35.\n",
      " 36. 37. 38. 39.]\n",
      "[  1.  -1.  -1.  -3.  -3.  -4.  -5.  -6.  -8.  -8.  -9. -11. -11. -13.\n",
      " -14. -14. -16. -17. -17. -19. -20. -20. -21. -23. -23. -24. -26. -27.\n",
      " -27. -29. -30. -30. -31. -33. -34. -35. -35. -37. -38. -39.]\n"
     ]
    }
   ],
   "source": [
    "print(xs)\n",
    "print(ys)"
   ]
  },
  {
   "cell_type": "code",
   "execution_count": 98,
   "id": "ac1a4fa5-7d01-4434-9478-5d7506c80bc6",
   "metadata": {
    "tags": []
   },
   "outputs": [],
   "source": [
    "m, b = best_fit_slope_intercept(xs,ys)"
   ]
  },
  {
   "cell_type": "code",
   "execution_count": 99,
   "id": "ea594962-5fc5-4039-b990-d17c046c4acc",
   "metadata": {
    "tags": []
   },
   "outputs": [
    {
     "name": "stdout",
     "output_type": "stream",
     "text": [
      "-1.0119136960600377 0.707317073170735\n"
     ]
    }
   ],
   "source": [
    "print(m, b)"
   ]
  },
  {
   "cell_type": "code",
   "execution_count": 100,
   "id": "9da3ae9b-fb14-449c-bff9-964fb884b7d1",
   "metadata": {
    "tags": []
   },
   "outputs": [],
   "source": [
    "regression_line = [(m*x)+b for x in xs]"
   ]
  },
  {
   "cell_type": "code",
   "execution_count": 101,
   "id": "e7985b54-cd0a-4367-92bc-db5c6d6d0895",
   "metadata": {},
   "outputs": [],
   "source": [
    "predict_x = 8\n",
    "predict_y = (m*predict_x)+b"
   ]
  },
  {
   "cell_type": "code",
   "execution_count": 102,
   "id": "70f4e191-414d-40e2-b386-4f37d66fff58",
   "metadata": {
    "tags": []
   },
   "outputs": [
    {
     "name": "stdout",
     "output_type": "stream",
     "text": [
      "8 -7.387992495309566\n"
     ]
    }
   ],
   "source": [
    "print(predict_x, predict_y)"
   ]
  },
  {
   "cell_type": "code",
   "execution_count": 103,
   "id": "13c5d8b3-098c-4b35-bd58-665d79e61909",
   "metadata": {
    "tags": []
   },
   "outputs": [
    {
     "name": "stdout",
     "output_type": "stream",
     "text": [
      "0.998313787734499\n"
     ]
    }
   ],
   "source": [
    "r_squared = coefficient_of_determination(ys, regression_line)\n",
    "print(r_squared)"
   ]
  },
  {
   "cell_type": "code",
   "execution_count": 104,
   "id": "8a5541c3-fe34-4ba5-91a8-67d6100246b1",
   "metadata": {
    "tags": []
   },
   "outputs": [
    {
     "data": {
      "image/png": "[encoded data removed]",
      "text/plain": [
       "<Figure size 640x480 with 1 Axes>"
      ]
     },
     "metadata": {},
     "output_type": "display_data"
    }
   ],
   "source": [
    "plt.scatter(xs,ys)\n",
    "plt.scatter(predict_x, predict_y, color='g')\n",
    "plt.plot(xs, regression_line)\n",
    "#plt.xlim([0,10])\n",
    "#plt.ylim([0,9])\n",
    "plt.show()"
   ]
  },
  {
   "cell_type": "code",
   "execution_count": null,
   "id": "1d20ed82-4512-4c65-84a2-a29fc0ed4056",
   "metadata": {},
   "outputs": [],
   "source": []
  },
  {
   "cell_type": "code",
   "execution_count": null,
   "id": "2b100c8e-3953-486b-960d-dcb5c31ad9a5",
   "metadata": {},
   "outputs": [],
   "source": []
  }
 ],
 "metadata": {
  "kernelspec": {
   "display_name": "Python 3 (ipykernel)",
   "language": "python",
   "name": "python3"
  },
  "language_info": {
   "codemirror_mode": {
    "name": "ipython",
    "version": 3
   },
   "file_extension": ".py",
   "mimetype": "text/x-python",
   "name": "python",
   "nbconvert_exporter": "python",
   "pygments_lexer": "ipython3",
   "version": "3.10.12"
  }
 },
 "nbformat": 4,
 "nbformat_minor": 5
}
